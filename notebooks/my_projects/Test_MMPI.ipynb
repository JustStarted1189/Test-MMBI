{
  "cells": [
    {
      "cell_type": "markdown",
      "metadata": {
        "id": "pCJsqswCxpzv"
      },
      "source": [
        "## **Загрузка результатов тестов и библиотек:**"
      ]
    },
    {
      "cell_type": "code",
      "execution_count": 2,
      "metadata": {
        "id": "3c3NGI7E-yDl"
      },
      "outputs": [],
      "source": [
        "'''\n",
        "Цель проекта: 1. Зная личностные особенности и характеристики состояний, которые определяются результатами теста и отдельными шкалами, \n",
        "                              а также учитывая их влияние друг на друга, рассчитать базовую оценку профиля личности по тесту MMPI   \n",
        "              2. Графически изобразить профиль личности для интерпретации результатов\n",
        "\n",
        "Примечание: \n",
        "              Когда понадобится: опросник поможет выявить черты и тип характера, стиль поведения и общения, \n",
        "              способность к адаптации и скрытые психические отклонения, профессиональную пригодность. \n",
        "              Спрогнозирует вероятность и причины затруднений в различных видах трудовой деятельности.\n",
        "'''\n",
        "# https://hr-portal.ru/tool/standartizirovannyy-mnogofaktornyy-metod-issledovaniya-lichnosti-mmpi\n",
        "# ссылка теста\n",
        "# ссылка на ключи:  https://psylab.info/%D0%9C%D0%B5%D1%82%D0%BE%D0%B4%D0%B8%D0%BA%D0%B0_%D0%BC%D0%BD%D0%BE%D0%B3%D0%BE%D1%81%D1%82%D0%BE%D1%80%D0%BE%D0%BD%D0%BD%D0%B5%D0%B3%D0%BE_%D0%B8%D1%81%D1%81%D0%BB%D0%B5%D0%B4%D0%BE%D0%B2%D0%B0%D0%BD%D0%B8%D1%8F_%D0%BB%D0%B8%D1%87%D0%BD%D0%BE%D1%81%D1%82%D0%B8/%D0%9A%D0%BB%D1%8E%D1%87%D0%B8_%D0%BA_%D1%82%D0%B5%D1%81%D1%82%D1%83_%D0%9C%D0%9C%D0%98%D0%9B\n",
        "\n",
        "import numpy as np\n",
        "import pandas as pd\n",
        "import matplotlib.pyplot as plt\n",
        "\n",
        "df = pd.read_csv('/workspaces/codespaces-jupyter/data/test.csv', header = None)\n",
        "df = df.replace(2,0)\n",
        "\n",
        "lst=[]\n",
        "\n",
        "for value, item in df.items():\n",
        " lst.extend(item)\n",
        "\n",
        "fin_lst=[int(x) for x in lst if str(x) != 'nan']\n",
        "data_dct=dict(zip(range(1,len(fin_lst)+1),fin_lst))\n"
      ]
    },
    {
      "cell_type": "markdown",
      "metadata": {
        "id": "soOFRNScxAhN"
      },
      "source": [
        "## **Ключи опросника:**"
      ]
    },
    {
      "cell_type": "code",
      "execution_count": 3,
      "metadata": {
        "id": "kd9QL-0jw6Mt"
      },
      "outputs": [],
      "source": [
        "#Создание ответов на опросник\n",
        "\n",
        "# «L» Ложь\n",
        "\n",
        "LB = ((0),(0))\n",
        "LH = 50, 58, 65, 90, 120, 150, 163, 180, 210, 231, 240, 270, 300, 330, 360\n",
        "\n",
        "# «F» Достоверность\n",
        "FB = 12, 25, 26, 27, 28, 54, 55, 56, 72, 83, 85, 86, 102, 105, 113, 115, 116, 117, 132, 143, 145, 146, 147, 173, 175, 177, 203, 206, 207, 236, 237, 265, 266, 267, 294, 295, 297, 324, 325, 326, 327, 334, 353, 354, 355, 356, 357\n",
        "FH = 24, 57, 58, 84, 37, 176, 193, 205, 233, 235, 261, 263, 293, 296, 323, 364\n",
        "\n",
        "# «К» Коррекция\n",
        "KB = 340\n",
        "KH = 8, 13, 38, 43, 73, 94, 98, 103, 124, 128, 133, 154, 158, 163, 188, 193, 217, 218, 223, 253, 277, 280, 282, 283, 310, 312, 313, 342, 372\n",
        "\n",
        "#«1» Сверхконтроль\n",
        "B1 = 15, 17, 45, 46, 77, 105, 107, 135, 137, 165, 197, 225, 255, 285, 286, 308, 314, 315, 316, 344, 345, 346, 375, 376\n",
        "H1 = 16, 47, 75, 131, 167, 195, 254, 284, 374\n",
        "\n",
        "#«2» Пессимистичность\n",
        "B2 = 9, 19, 48, 49, 79, 98, 105, 108, 109, 139, 165, 168, 169, 225, 228, 229, 253, 257, 258, 259, 315, 337, 367 \n",
        "H2 = 18, 20, 41, 43, 50, 75, 78, 124, 131, 137, 138, 161, 163, 167, 193, 198, 199, 223, 227, 244, 254, 277, 284, 287, 288, 289, 317, 318, 319, 338, 347, 348, 349, 368, 370, 377\n",
        "\n",
        "#«3» Эмоциональная лабильность\n",
        "B3 = 14, 15, 45, 46, 76, 105, 106, 134, 135, 136, 165, 166, 194, 225, 255, 285, 314, 315, 337, 344, 345, 373, 375\n",
        "H3 = 8, 11, 16, 38, 41, 43, 44, 71, 73, 74, 75, 101, 103, 104, 124, 133, 155, 163, 164, 184, 187, 195, 196, 214, 218, 224, 226, 248, 254, 256, 278, 280, 284, 343, 370, 374\n",
        "\n",
        "#«4» Импульсивность\n",
        "B4 = 40, 42, 70, 72, 100, 102, 132, 162, 190, 191, 192, 221, 222, 247, 250, 251, 252, 281, 311, 337, 341, 367, 369, 371\n",
        "H4 = 8, 10, 11, 12, 38, 41, 68, 71, 94, 101, 130, 131, 160, 161, 187, 217, 220, 277, 280, 307, 310, 340, 370\n",
        "\n",
        "#«5-Ж» Женственность\n",
        "B5g = 1, 3, 5, 32, 62, 64, 93, 94, 122, 151, 152, 154, 181, 213, 242, 243, 273, 274, 301, 302, 303, 304, 331, 332, 334, 361, 362\n",
        "H5g = 2, 4, 31, 33, 34, 35, 61, 63, 65, 91, 92, 121, 123, 124, 153, 182, 183, 184, 211, 212, 214, 241, 244, 271, 272, 333, 363, 364\n",
        "\n",
        "#«5-М» Женственность\n",
        "B5m = 1, 3, 5, 32, 62, 64, 94, 122, 151, 152, 154, 181, 213, 242, 243, 273, 274, 301, 302, 303, 304, 331, 332, 334, 361, 362\n",
        "H5m = 2, 4, 31, 33, 34, 35, 61, 63, 65, 91, 92, 93, 121, 123, 124, 153, 182, 183, 184, 211, 212, 214, 241, 244, 271, 272, 333, 363, 364\n",
        "\n",
        "#«6» Ригидность\n",
        "B6 = 5, 12, 28, 42, 51, 88, 113, 114, 143, 144, 162, 171, 178, 192, 203, 208, 222, 231, 252, 259, 262, 267, 291, 297, 308, 327, 339, 357, 371\n",
        "H6 = 34, 118, 148, 188, 196, 218, 226, 238, 268, 298, 370\n",
        "\n",
        "#«7» Тревожность\n",
        "B7 = 19, 21, 39, 49, 51, 69, 76, 79, 80, 81, 99, 106, 109, 110, 111, 129, 136, 140, 141, 154, 159, 170, 171, 189, 191, 201, 219, 221, 230, 231, 251, 253, 258, 260, 290, 291, 315, 320, 337, 350, 367\n",
        "H7 = 41, 195, 200, 261, 288, 318, 348\n",
        "\n",
        "#«8» Индивидуалистичность\n",
        "B8 = 12, 21, 22, 23, 42, 51, 52, 53, 54, 79, 81, 82, 83, 106, 109, 111, 112, 113, 114, 136, 139, 141, 142, 143, 144, 166, 169, 171, 172, 173, 174, 197, 199, 201, 202, 203, 204, 229, 231, 232, 234, 247, 258, 262, 264, 274, 279, 281, 304, 308, 309, 311, 321, 337, 341, 345, 350, 351, 353, 371, 375, 352\n",
        "H8 = 24, 41, 84, 233, 249, 263, 283, 292, 293, 322, 323, 348\n",
        "\n",
        "#«9» Оптимистичность\n",
        "B9 = 20, 21, 29, 51, 59, 60, 94, 106, 108, 119, 149, 174, 179, 196, 204, 209, 222, 234, 239, 256, 262, 264, 269, 276, 281, 289, 298, 299, 319, 328, 339, 349, 353, 359\n",
        "H9 = 8, 35, 38, 71, 80, 89, 90, 120, 217, 249, 313, 358\n",
        "\n",
        "#«10» Интроверсия\n",
        "B10 = 6, 7, 8, 9, 34, 37, 38, 39, 69, 95, 97, 98, 99, 126, 127, 128, 129, 155, 158, 159, 187, 188, 217, 218, 219, 243, 245, 248, 278, 279, 305, 307, 308, 309, 337, 338, 365, 366, 367\n",
        "H10 = 4, 36, 66, 67, 68, 96, 125, 156, 157, 185, 186, 189, 215, 216, 246, 247, 249, 273, 275, 276, 277, 303, 306, 333, 335, 336, 339, 363, 368\n",
        "\n",
        "# Примечание: номера вопросов, которые не следует учитывать при обработке теста:\n",
        "ignore = 14, 33, 48, 63, 66, 69, 121, 123, 133, 151, 168, 182, 184, 197, 200, 205, 266, 275, 293, 334, 349, 350, 462, 464, 474, 542, 551\n",
        "\n",
        "\n",
        "dct = { 'L': ({'LB': LB}, {'LH': LH}),\n",
        "        'F': ({'FB': FB}, {'FH': FH}),\n",
        "        'K': ({'KB': FB}, {'KH': FH}),\n",
        "        '1': ({'B1': B1}, {'H1': H1}),\n",
        "        '2': ({'B2': B2}, {'H2': H2}),\n",
        "        '3': ({'B3': B3}, {'H3': H3}),\n",
        "        '4': ({'B4': B4}, {'H4': H4}),\n",
        "        '5g': ({'B5g': B5g}, {'H5g': H5g}),\n",
        "        '5m': ({'B5m': B5m}, {'H5m': H5m}),\n",
        "        '6': ({'B6': B6}, {'H6': H6}),\n",
        "        '7': ({'B7': B7}, {'H7': H7}),\n",
        "        '8': ({'B8': B8}, {'H8': H8}),\n",
        "        '9': ({'B9': B9}, {'H9': H9}),\n",
        "        '10': ({'B10': B10}, {'H10': H10})\n",
        "        }"
      ]
    },
    {
      "cell_type": "code",
      "execution_count": 4,
      "metadata": {
        "colab": {
          "base_uri": "https://localhost:8080/"
        },
        "id": "7fwuwDZ09jU8",
        "outputId": "0aac1899-7822-48bc-db3a-c472b855d266"
      },
      "outputs": [
        {
          "name": "stdout",
          "output_type": "stream",
          "text": [
            "['L', 'F', 'K', '1', '2', '3', '4', '5g', '5m', '6', '7', '8', '9', '10']\n",
            "['LB', 'FB', 'KB', 'B1', 'B2', 'B3', 'B4', 'B5g', 'B5m', 'B6', 'B7', 'B8', 'B9', 'B10']\n",
            "['LH', 'FH', 'KH', 'H1', 'H2', 'H3', 'H4', 'H5g', 'H5m', 'H6', 'H7', 'H8', 'H9', 'H10']\n"
          ]
        }
      ],
      "source": [
        "#вытаскиваем заголовки словаря\n",
        "dct_cycle00 = []\n",
        "dct_cycle10 = []\n",
        "dct_cycle11 = []\n",
        "\n",
        "for item,value in enumerate(dct.items()):\n",
        "  for item0,value0 in enumerate(value[:1]):\n",
        "    dct_cycle00.append(value0)\n",
        "  for item1,value1 in enumerate(value[1][0]):\n",
        "    dct_cycle10.append(value1)\n",
        "  for item,value in enumerate(value[1][1]):\n",
        "    dct_cycle11.append(value)\n",
        "\n",
        "print(dct_cycle00)\n",
        "print(dct_cycle10)\n",
        "print(dct_cycle11)"
      ]
    },
    {
      "cell_type": "markdown",
      "metadata": {
        "id": "-5RLS8NNxZEa"
      },
      "source": [
        "## **Результаты опросника:**"
      ]
    },
    {
      "cell_type": "code",
      "execution_count": 5,
      "metadata": {
        "colab": {
          "base_uri": "https://localhost:8080/"
        },
        "id": "uyNMM1rPgwgQ",
        "outputId": "ceb8c37b-a111-4686-a339-cd9f7db4d7e3"
      },
      "outputs": [
        {
          "data": {
            "text/plain": [
              "[-6, 9, 9, 7, -4, -4, 0, 0, -2, 9, 12, 17, 10, 2]"
            ]
          },
          "execution_count": 5,
          "metadata": {},
          "output_type": "execute_result"
        }
      ],
      "source": [
        "def res_count(indicator,df):\n",
        "  part_dct=dict(zip(range(len(indicator)),indicator))\n",
        "  sum=0\n",
        "  sum_vals=[]\n",
        "  for key in part_dct:\n",
        "    if key in df:\n",
        "      sum_vals.append(df[key])\n",
        "      sum = sum_vals.count(1)\n",
        "  return sum\n",
        "\n",
        "x1=[]\n",
        "x2=[]\n",
        "\n",
        "for [i00,i10] in zip(dct_cycle00,dct_cycle10):\n",
        "    x1.append(res_count(dct[i00][0][i10],data_dct))\n",
        "for [i00,i11] in zip(dct_cycle00,dct_cycle11):\n",
        "    x2.append(res_count(dct[i00][1][i11],data_dct))\n",
        "\n",
        "x = [x1 - x2 for x1,x2 in zip(x1, x2)]\n",
        "x"
      ]
    },
    {
      "cell_type": "code",
      "execution_count": 6,
      "metadata": {
        "colab": {
          "base_uri": "https://localhost:8080/"
        },
        "id": "iZdfvcJyPYdr",
        "outputId": "da26c44a-17e0-4250-c96d-decf2cbd52fa"
      },
      "outputs": [
        {
          "data": {
            "text/plain": [
              "[0.5, -1.0, -1.0, -0.5, 0.5, 0.5, -0.5, 0.5, -0.5, 0.0, -1.0, 0.0, 0.0, -0.5]"
            ]
          },
          "execution_count": 6,
          "metadata": {},
          "output_type": "execute_result"
        }
      ],
      "source": [
        "from numpy import median\n",
        "def res(indicator,df):\n",
        "  part_dct=dict(zip(range(len(indicator)),indicator))\n",
        "  sum_vals=[]\n",
        "  for key in part_dct:\n",
        "    if key in df:\n",
        "      sum_vals.append(df[key])\n",
        "  return median(sum_vals)\n",
        "\n",
        "m1=[]\n",
        "m2=[]\n",
        "\n",
        "for [i00,i10] in zip(dct_cycle00,dct_cycle10):\n",
        "    m1.append(res(dct[i00][0][i10],data_dct))\n",
        "for [i00,i11] in zip(dct_cycle00,dct_cycle11):\n",
        "    m2.append(res(dct[i00][1][i11],data_dct))\n",
        "\n",
        "m = [m1 - m2 for m1,m2 in zip(m1, m2)]\n",
        "m "
      ]
    },
    {
      "cell_type": "code",
      "execution_count": 7,
      "metadata": {
        "id": "Iev8QBgVOQp8"
      },
      "outputs": [],
      "source": [
        "sigma = [2.435, 3.183, 4.143, 4.470, 5.033,\t5.176, 4.119,\t3.820,\t3.820, 3.295,\t4.772, 5.254, 3.816, 7.748]"
      ]
    },
    {
      "cell_type": "code",
      "execution_count": 8,
      "metadata": {
        "id": "O78fLzd5NI4D"
      },
      "outputs": [],
      "source": [
        "plus=[0, 0, 0, 0.5, 0, 0, 0.4, 0, 0, 0, 1.0, 1.0, 0.2, 0]"
      ]
    },
    {
      "cell_type": "code",
      "execution_count": 9,
      "metadata": {
        "colab": {
          "base_uri": "https://localhost:8080/"
        },
        "id": "7D8aFychitbC",
        "outputId": "4f57c573-5422-4b30-eaf8-8f714e9c32e9"
      },
      "outputs": [
        {
          "data": {
            "text/plain": [
              "[23.3,\n",
              " 81.4,\n",
              " 74.1,\n",
              " 67.9,\n",
              " 41.1,\n",
              " 41.3,\n",
              " 52.2,\n",
              " 48.7,\n",
              " 46.1,\n",
              " 77.3,\n",
              " 79.3,\n",
              " 84.3,\n",
              " 76.7,\n",
              " 53.2]"
            ]
          },
          "execution_count": 9,
          "metadata": {},
          "output_type": "execute_result"
        }
      ],
      "source": [
        "result_T = [round((50 + 10*(x+plus-m)/sigma),1) for (x, m, sigma, plus) in zip(x, m, sigma, plus)]\n",
        "result_T\n"
      ]
    },
    {
      "cell_type": "markdown",
      "metadata": {
        "id": "W9W2DliN22sC"
      },
      "source": [
        "## **Рисуем график:**"
      ]
    },
    {
      "cell_type": "code",
      "execution_count": 10,
      "metadata": {
        "colab": {
          "base_uri": "https://localhost:8080/",
          "height": 295
        },
        "id": "axb3kB8i21OO",
        "outputId": "f7de159b-7625-4222-841e-9b75603230ee"
      },
      "outputs": [
        {
          "data": {
            "image/png": "[encoded data removed]",
            "text/plain": [
              "<Figure size 640x480 with 1 Axes>"
            ]
          },
          "metadata": {},
          "output_type": "display_data"
        }
      ],
      "source": [
        "x_ax = ['L','F','K','1','2','3','4','5g','5m','6','7','8','9','0']\n",
        "# Построение графика\n",
        "plt.title('Графическое изображение профиля:') # заголовок\n",
        "plt.xlabel('x') # ось абсцисс\n",
        "plt.ylabel('y') # ось ординат\n",
        "plt.grid() # включение отображения сетки\n",
        "plt.plot(x_ax, result_T)\n",
        "plt.axhline(y = 50, color = 'm', linestyle = '-')\n",
        "plt.axhline(y = 70, color = 'r', linestyle = ':')\n",
        "plt.axhline(y = 30, color = 'r', linestyle = ':')\n",
        "plt.set_size=(20,20) # построение графика и прямой нормы"
      ]
    },
    {
      "cell_type": "markdown",
      "metadata": {
        "id": "UYBmHpcJ9Yqg"
      },
      "source": [
        "## Высчитаем коэффициент Голберга для примера:"
      ]
    },
    {
      "cell_type": "code",
      "execution_count": 11,
      "metadata": {
        "colab": {
          "base_uri": "https://localhost:8080/"
        },
        "id": "T8LShMZa9jFC",
        "outputId": "9c648945-e137-43a5-eb19-cf1539329100"
      },
      "outputs": [
        {
          "data": {
            "text/plain": [
              "{'L': 23.3,\n",
              " 'F': 81.4,\n",
              " 'K': 74.1,\n",
              " '1': 67.9,\n",
              " '2': 41.1,\n",
              " '3': 41.3,\n",
              " '4': 52.2,\n",
              " '5g': 48.7,\n",
              " '5m': 46.1,\n",
              " '6': 77.3,\n",
              " '7': 79.3,\n",
              " '8': 84.3,\n",
              " '9': 76.7,\n",
              " '0': 53.2}"
            ]
          },
          "execution_count": 11,
          "metadata": {},
          "output_type": "execute_result"
        }
      ],
      "source": [
        "final_res = dict(zip(x_ax,result_T))\n",
        "final_res"
      ]
    },
    {
      "cell_type": "markdown",
      "metadata": {
        "id": "R_b5da9LjWf3"
      },
      "source": [
        "'L': 23.3,\n",
        " 'F': 75.1,\n",
        " 'K': 69.3,\n",
        " '1': 65.7,\n",
        " '2': 41.1,\n",
        " '3': 41.3,\n",
        " '4': 49.8,\n",
        " '5g': 48.7,\n",
        " '5m': 43.5,\n",
        " '6': 74.3,\n",
        " '7': 75.1,\n",
        " '8': 84.3,\n",
        " '9': 76.7,\n",
        " '0': 51.9}"
      ]
    },
    {
      "cell_type": "code",
      "execution_count": 12,
      "metadata": {
        "colab": {
          "base_uri": "https://localhost:8080/"
        },
        "id": "ZtLIWZxU76k4",
        "outputId": "c3f94d04-09e0-4086-9035-da4845a9f79f"
      },
      "outputs": [
        {
          "data": {
            "text/plain": [
              "64.29999999999998"
            ]
          },
          "execution_count": 12,
          "metadata": {},
          "output_type": "execute_result"
        }
      ],
      "source": [
        "#1. Шкала ипохондрии (HS) \n",
        "#2. Шкала депрессии (D)\n",
        "#3. Шкала истерии (Hy)\n",
        "#4. Шкала психопатии (Pd)\n",
        "#5. Шкала маскулинности – феминности (Mf)\n",
        "#6. Шкала паранойи (Pa)\n",
        "#7. Шкала психастении (Pt)\n",
        "#8. Шкала шизофрении (Sc)\n",
        "#9. Шкала гипомании (Ma) \n",
        "#10. Шкала социальной интроверсии (Si)\n",
        "\n",
        "\n",
        "#Индекс Голдберга (Goldberg L.R., 1955): = (L +  Pa +  Sc) – (Hy +  Pt)\n",
        "#Фрустрационная толерантность (Beall, Panton, 1957): Ft = (Pd + Ma)/(D + Hy)\n",
        "Goldberg__index = (final_res['L'] + final_res['6'] + final_res['8'])-(final_res['3'] + final_res['7'])\n",
        "Goldberg__index\n"
      ]
    },
    {
      "cell_type": "code",
      "execution_count": 13,
      "metadata": {
        "colab": {
          "base_uri": "https://localhost:8080/"
        },
        "id": "R1sKdLToByH2",
        "outputId": "668d5986-0cf7-4105-8299-42e890372f65"
      },
      "outputs": [
        {
          "data": {
            "text/plain": [
              "1.5643203883495145"
            ]
          },
          "execution_count": 13,
          "metadata": {},
          "output_type": "execute_result"
        }
      ],
      "source": [
        "Ft = (final_res['4']+final_res['9'])/(final_res['2']+final_res['3'])\n",
        "Ft"
      ]
    }
  ],
  "metadata": {
    "colab": {
      "provenance": []
    },
    "kernelspec": {
      "display_name": "Python 3",
      "language": "python",
      "name": "python3"
    },
    "language_info": {
      "codemirror_mode": {
        "name": "ipython",
        "version": 3
      },
      "file_extension": ".py",
      "mimetype": "text/x-python",
      "name": "python",
      "nbconvert_exporter": "python",
      "pygments_lexer": "ipython3",
      "version": "3.10.4"
    },
    "vscode": {
      "interpreter": {
        "hash": "3ad933181bd8a04b432d3370b9dc3b0662ad032c4dfaa4e4f1596c548f763858"
      }
    }
  },
  "nbformat": 4,
  "nbformat_minor": 0
}
